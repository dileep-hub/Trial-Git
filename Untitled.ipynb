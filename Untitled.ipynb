{
 "cells": [
  {
   "cell_type": "code",
   "execution_count": 1,
   "metadata": {},
   "outputs": [],
   "source": [
    "from keras.preprocessing.image import ImageDataGenerator"
   ]
  },
  {
   "cell_type": "code",
   "execution_count": 2,
   "metadata": {},
   "outputs": [
    {
     "name": "stdout",
     "output_type": "stream",
     "text": [
      "Found 195 images belonging to 2 classes.\n"
     ]
    }
   ],
   "source": [
    "# Preprocessing the Training set\n",
    "train_datagen = ImageDataGenerator(rescale = 1./255,\n",
    "                                   shear_range = 0.2,\n",
    "                                   zoom_range = 0.2,\n",
    "                                   horizontal_flip = True)\n",
    "training_set = train_datagen.flow_from_directory('dataset/training_set',\n",
    "                                                 target_size = (64, 64),\n",
    "                                                 batch_size = 32,\n",
    "                                                 class_mode = 'binary')"
   ]
  },
  {
   "cell_type": "code",
   "execution_count": 3,
   "metadata": {},
   "outputs": [
    {
     "name": "stdout",
     "output_type": "stream",
     "text": [
      "Found 58 images belonging to 2 classes.\n"
     ]
    }
   ],
   "source": [
    "# Preprocessing the Test set\n",
    "test_datagen = ImageDataGenerator(rescale = 1./255)\n",
    "test_set = test_datagen.flow_from_directory('dataset/test_set',\n",
    "                                            target_size = (64, 64),\n",
    "                                            batch_size = 32,\n",
    "                                            class_mode = 'binary')"
   ]
  },
  {
   "cell_type": "code",
   "execution_count": 4,
   "metadata": {},
   "outputs": [],
   "source": [
    "from keras.models import Sequential"
   ]
  },
  {
   "cell_type": "code",
   "execution_count": 5,
   "metadata": {},
   "outputs": [],
   "source": [
    "model = Sequential()"
   ]
  },
  {
   "cell_type": "code",
   "execution_count": 6,
   "metadata": {},
   "outputs": [],
   "source": [
    "from keras.layers import Conv2D"
   ]
  },
  {
   "cell_type": "code",
   "execution_count": 7,
   "metadata": {},
   "outputs": [],
   "source": [
    "model.add(Conv2D(filters=32, \n",
    "                kernel_size=3,\n",
    "                activation='relu',\n",
    "                input_shape=[64, 64, 3]))"
   ]
  },
  {
   "cell_type": "code",
   "execution_count": 8,
   "metadata": {},
   "outputs": [],
   "source": [
    "from keras.layers import MaxPooling2D"
   ]
  },
  {
   "cell_type": "code",
   "execution_count": 9,
   "metadata": {},
   "outputs": [],
   "source": [
    "model.add(MaxPooling2D(pool_size=2,\n",
    "                       strides=2))"
   ]
  },
  {
   "cell_type": "code",
   "execution_count": 10,
   "metadata": {},
   "outputs": [
    {
     "name": "stdout",
     "output_type": "stream",
     "text": [
      "Model: \"sequential\"\n",
      "_________________________________________________________________\n",
      "Layer (type)                 Output Shape              Param #   \n",
      "=================================================================\n",
      "conv2d (Conv2D)              (None, 62, 62, 32)        896       \n",
      "_________________________________________________________________\n",
      "max_pooling2d (MaxPooling2D) (None, 31, 31, 32)        0         \n",
      "=================================================================\n",
      "Total params: 896\n",
      "Trainable params: 896\n",
      "Non-trainable params: 0\n",
      "_________________________________________________________________\n"
     ]
    }
   ],
   "source": [
    "model.summary()"
   ]
  },
  {
   "cell_type": "code",
   "execution_count": 11,
   "metadata": {},
   "outputs": [],
   "source": [
    "model.add(Conv2D(filters=64, \n",
    "                kernel_size=3,\n",
    "                activation='relu',\n",
    "                ))"
   ]
  },
  {
   "cell_type": "code",
   "execution_count": 12,
   "metadata": {},
   "outputs": [],
   "source": [
    "model.add(MaxPooling2D(pool_size=2,\n",
    "                       strides=2))"
   ]
  },
  {
   "cell_type": "code",
   "execution_count": 14,
   "metadata": {},
   "outputs": [],
   "source": [
    "from keras.layers import Flatten"
   ]
  },
  {
   "cell_type": "code",
   "execution_count": 15,
   "metadata": {},
   "outputs": [],
   "source": [
    "model.add(Flatten())"
   ]
  },
  {
   "cell_type": "code",
   "execution_count": 16,
   "metadata": {
    "scrolled": true
   },
   "outputs": [
    {
     "name": "stdout",
     "output_type": "stream",
     "text": [
      "Model: \"sequential\"\n",
      "_________________________________________________________________\n",
      "Layer (type)                 Output Shape              Param #   \n",
      "=================================================================\n",
      "conv2d (Conv2D)              (None, 62, 62, 32)        896       \n",
      "_________________________________________________________________\n",
      "max_pooling2d (MaxPooling2D) (None, 31, 31, 32)        0         \n",
      "_________________________________________________________________\n",
      "conv2d_1 (Conv2D)            (None, 29, 29, 64)        18496     \n",
      "_________________________________________________________________\n",
      "max_pooling2d_1 (MaxPooling2 (None, 14, 14, 64)        0         \n",
      "_________________________________________________________________\n",
      "flatten (Flatten)            (None, 12544)             0         \n",
      "=================================================================\n",
      "Total params: 19,392\n",
      "Trainable params: 19,392\n",
      "Non-trainable params: 0\n",
      "_________________________________________________________________\n"
     ]
    }
   ],
   "source": [
    "model.summary()"
   ]
  },
  {
   "cell_type": "code",
   "execution_count": 17,
   "metadata": {},
   "outputs": [],
   "source": [
    "from keras.layers import Dense"
   ]
  },
  {
   "cell_type": "code",
   "execution_count": 18,
   "metadata": {},
   "outputs": [],
   "source": [
    "model.add(Dense(units=128,\n",
    "                activation='relu'))"
   ]
  },
  {
   "cell_type": "code",
   "execution_count": 19,
   "metadata": {},
   "outputs": [],
   "source": [
    "model.add(Dense(units=1,\n",
    "                activation='sigmoid'))"
   ]
  },
  {
   "cell_type": "code",
   "execution_count": 20,
   "metadata": {},
   "outputs": [],
   "source": [
    "model.compile(optimizer=\"adam\",\n",
    "              loss='binary_crossentropy',\n",
    "              metrics='accuracy')"
   ]
  },
  {
   "cell_type": "code",
   "execution_count": 29,
   "metadata": {},
   "outputs": [
    {
     "name": "stdout",
     "output_type": "stream",
     "text": [
      "Epoch 1/45\n",
      "7/7 [==============================] - 1s 171ms/step - loss: 0.2008 - accuracy: 0.9436 - val_loss: 0.7571 - val_accuracy: 0.7069\n",
      "Epoch 2/45\n",
      "7/7 [==============================] - 1s 172ms/step - loss: 0.2090 - accuracy: 0.9231 - val_loss: 0.6845 - val_accuracy: 0.7759\n",
      "Epoch 3/45\n",
      "7/7 [==============================] - 1s 156ms/step - loss: 0.2295 - accuracy: 0.9077 - val_loss: 0.7380 - val_accuracy: 0.7931\n",
      "Epoch 4/45\n",
      "7/7 [==============================] - 1s 147ms/step - loss: 0.1663 - accuracy: 0.9231 - val_loss: 0.6859 - val_accuracy: 0.7414\n",
      "Epoch 5/45\n",
      "7/7 [==============================] - 1s 161ms/step - loss: 0.1693 - accuracy: 0.9487 - val_loss: 0.7551 - val_accuracy: 0.7414\n",
      "Epoch 6/45\n",
      "7/7 [==============================] - 1s 136ms/step - loss: 0.1829 - accuracy: 0.9282 - val_loss: 0.7352 - val_accuracy: 0.7241\n",
      "Epoch 7/45\n",
      "7/7 [==============================] - 1s 136ms/step - loss: 0.1676 - accuracy: 0.9385 - val_loss: 0.8420 - val_accuracy: 0.7241\n",
      "Epoch 8/45\n",
      "7/7 [==============================] - 1s 138ms/step - loss: 0.1832 - accuracy: 0.9231 - val_loss: 0.8094 - val_accuracy: 0.7414\n",
      "Epoch 9/45\n",
      "7/7 [==============================] - 1s 136ms/step - loss: 0.1860 - accuracy: 0.9026 - val_loss: 0.8545 - val_accuracy: 0.7069\n",
      "Epoch 10/45\n",
      "7/7 [==============================] - 1s 135ms/step - loss: 0.1582 - accuracy: 0.9231 - val_loss: 0.8626 - val_accuracy: 0.7414\n",
      "Epoch 11/45\n",
      "7/7 [==============================] - 1s 208ms/step - loss: 0.1611 - accuracy: 0.9385 - val_loss: 1.0295 - val_accuracy: 0.6552\n",
      "Epoch 12/45\n",
      "7/7 [==============================] - 1s 217ms/step - loss: 0.1223 - accuracy: 0.9590 - val_loss: 0.8997 - val_accuracy: 0.7069\n",
      "Epoch 13/45\n",
      "7/7 [==============================] - 1s 169ms/step - loss: 0.3136 - accuracy: 0.9026 - val_loss: 0.7536 - val_accuracy: 0.7586\n",
      "Epoch 14/45\n",
      "7/7 [==============================] - 1s 176ms/step - loss: 0.1900 - accuracy: 0.9333 - val_loss: 0.6809 - val_accuracy: 0.8103\n",
      "Epoch 15/45\n",
      "7/7 [==============================] - 1s 192ms/step - loss: 0.1955 - accuracy: 0.9231 - val_loss: 0.5488 - val_accuracy: 0.7931\n",
      "Epoch 16/45\n",
      "7/7 [==============================] - 1s 172ms/step - loss: 0.1709 - accuracy: 0.9282 - val_loss: 0.5997 - val_accuracy: 0.7931\n",
      "Epoch 17/45\n",
      "7/7 [==============================] - 1s 177ms/step - loss: 0.1215 - accuracy: 0.9641 - val_loss: 0.6994 - val_accuracy: 0.7586\n",
      "Epoch 18/45\n",
      "7/7 [==============================] - 1s 217ms/step - loss: 0.1500 - accuracy: 0.9641 - val_loss: 0.8957 - val_accuracy: 0.7069\n",
      "Epoch 19/45\n",
      "7/7 [==============================] - 1s 187ms/step - loss: 0.1243 - accuracy: 0.9590 - val_loss: 0.8287 - val_accuracy: 0.7586\n",
      "Epoch 20/45\n",
      "7/7 [==============================] - 1s 206ms/step - loss: 0.2340 - accuracy: 0.9077 - val_loss: 0.6950 - val_accuracy: 0.8103\n",
      "Epoch 21/45\n",
      "7/7 [==============================] - 1s 171ms/step - loss: 0.1576 - accuracy: 0.9231 - val_loss: 0.7731 - val_accuracy: 0.7586\n",
      "Epoch 22/45\n",
      "7/7 [==============================] - 1s 211ms/step - loss: 0.1095 - accuracy: 0.9795 - val_loss: 0.7782 - val_accuracy: 0.7759\n",
      "Epoch 23/45\n",
      "7/7 [==============================] - 1s 190ms/step - loss: 0.1136 - accuracy: 0.9692 - val_loss: 0.7572 - val_accuracy: 0.7931\n",
      "Epoch 24/45\n",
      "7/7 [==============================] - 2s 246ms/step - loss: 0.1173 - accuracy: 0.9692 - val_loss: 0.7883 - val_accuracy: 0.7759\n",
      "Epoch 25/45\n",
      "7/7 [==============================] - 1s 205ms/step - loss: 0.1794 - accuracy: 0.9538 - val_loss: 0.8658 - val_accuracy: 0.7414\n",
      "Epoch 26/45\n",
      "7/7 [==============================] - 1s 191ms/step - loss: 0.1222 - accuracy: 0.9641 - val_loss: 0.7981 - val_accuracy: 0.7586\n",
      "Epoch 27/45\n",
      "7/7 [==============================] - 1s 174ms/step - loss: 0.0965 - accuracy: 0.9590 - val_loss: 0.7590 - val_accuracy: 0.7931\n",
      "Epoch 28/45\n",
      "7/7 [==============================] - 1s 206ms/step - loss: 0.1157 - accuracy: 0.9692 - val_loss: 0.8322 - val_accuracy: 0.7586\n",
      "Epoch 29/45\n",
      "7/7 [==============================] - 1s 202ms/step - loss: 0.1237 - accuracy: 0.9538 - val_loss: 0.9280 - val_accuracy: 0.7759\n",
      "Epoch 30/45\n",
      "7/7 [==============================] - 1s 169ms/step - loss: 0.0860 - accuracy: 0.9641 - val_loss: 0.8261 - val_accuracy: 0.7759\n",
      "Epoch 31/45\n",
      "7/7 [==============================] - 1s 169ms/step - loss: 0.1068 - accuracy: 0.9538 - val_loss: 0.8031 - val_accuracy: 0.7586\n",
      "Epoch 32/45\n",
      "7/7 [==============================] - 1s 186ms/step - loss: 0.1121 - accuracy: 0.9641 - val_loss: 0.7934 - val_accuracy: 0.7586\n",
      "Epoch 33/45\n",
      "7/7 [==============================] - 2s 213ms/step - loss: 0.0846 - accuracy: 0.9744 - val_loss: 0.7764 - val_accuracy: 0.8103\n",
      "Epoch 34/45\n",
      "7/7 [==============================] - 1s 216ms/step - loss: 0.0978 - accuracy: 0.9692 - val_loss: 0.7490 - val_accuracy: 0.7586\n",
      "Epoch 35/45\n",
      "7/7 [==============================] - 1s 212ms/step - loss: 0.0829 - accuracy: 0.9795 - val_loss: 0.8331 - val_accuracy: 0.7414\n",
      "Epoch 36/45\n",
      "7/7 [==============================] - 1s 192ms/step - loss: 0.0632 - accuracy: 0.9795 - val_loss: 0.8263 - val_accuracy: 0.7759\n",
      "Epoch 37/45\n",
      "7/7 [==============================] - 1s 197ms/step - loss: 0.0460 - accuracy: 0.9949 - val_loss: 0.8945 - val_accuracy: 0.7586\n",
      "Epoch 38/45\n",
      "7/7 [==============================] - 1s 176ms/step - loss: 0.0494 - accuracy: 0.9897 - val_loss: 0.9078 - val_accuracy: 0.7759\n",
      "Epoch 39/45\n",
      "7/7 [==============================] - 1s 217ms/step - loss: 0.0271 - accuracy: 1.0000 - val_loss: 0.9161 - val_accuracy: 0.7759\n",
      "Epoch 40/45\n",
      "7/7 [==============================] - 1s 181ms/step - loss: 0.0752 - accuracy: 0.9744 - val_loss: 1.0411 - val_accuracy: 0.7759\n",
      "Epoch 41/45\n",
      "7/7 [==============================] - 1s 172ms/step - loss: 0.1229 - accuracy: 0.9487 - val_loss: 0.8836 - val_accuracy: 0.8103\n",
      "Epoch 42/45\n",
      "7/7 [==============================] - 1s 170ms/step - loss: 0.0919 - accuracy: 0.9795 - val_loss: 0.8186 - val_accuracy: 0.8103\n",
      "Epoch 43/45\n",
      "7/7 [==============================] - 1s 196ms/step - loss: 0.0611 - accuracy: 0.9744 - val_loss: 0.8837 - val_accuracy: 0.7931\n",
      "Epoch 44/45\n",
      "7/7 [==============================] - 1s 182ms/step - loss: 0.0727 - accuracy: 0.9795 - val_loss: 0.8953 - val_accuracy: 0.7414\n",
      "Epoch 45/45\n",
      "7/7 [==============================] - 1s 184ms/step - loss: 0.0784 - accuracy: 0.9744 - val_loss: 0.9291 - val_accuracy: 0.7759\n"
     ]
    },
    {
     "data": {
      "text/plain": [
       "<keras.callbacks.History at 0x1d6f1667fd0>"
      ]
     },
     "execution_count": 29,
     "metadata": {},
     "output_type": "execute_result"
    }
   ],
   "source": [
    "model.fit(x=training_set, validation_data=test_set, epochs=45)"
   ]
  },
  {
   "cell_type": "code",
   "execution_count": null,
   "metadata": {},
   "outputs": [],
   "source": []
  },
  {
   "cell_type": "code",
   "execution_count": 45,
   "metadata": {},
   "outputs": [
    {
     "name": "stdout",
     "output_type": "stream",
     "text": [
      "no\n"
     ]
    }
   ],
   "source": [
    "import numpy as np\n",
    "from keras.preprocessing import image\n",
    "#test_image = image.load_img('dataset/single_prediction/yes_or_no3.jpg', target_size = (64, 64))\n",
    "\n",
    "#test_image = image.load_img('dataset/test_set/yes/Y195.JPG', target_size = (64, 64))\n",
    "#test_image = image.load_img('dataset/test_set/no/No12.jpg', target_size = (64, 64))\n",
    "test_image = image.load_img('dataset/kag3n.jpg', target_size = (64, 64))\n",
    "\n",
    "test_image = image.img_to_array(test_image)\n",
    "test_image = np.expand_dims(test_image, axis = 0)\n",
    "result = model.predict(test_image)\n",
    "training_set.class_indices\n",
    "if result[0][0] == 1:\n",
    "    prediction = 'yes'\n",
    "else:\n",
    "    prediction = 'no'\n",
    "print(prediction)"
   ]
  },
  {
   "cell_type": "code",
   "execution_count": 46,
   "metadata": {},
   "outputs": [],
   "source": [
    "model.save(\"BT_MODEL.h5\")"
   ]
  },
  {
   "cell_type": "code",
   "execution_count": 51,
   "metadata": {},
   "outputs": [],
   "source": [
    "from keras.models import load_model"
   ]
  },
  {
   "cell_type": "code",
   "execution_count": 52,
   "metadata": {},
   "outputs": [],
   "source": [
    "modelf = load_model('BT_MODEL.h5')"
   ]
  },
  {
   "cell_type": "code",
   "execution_count": 55,
   "metadata": {},
   "outputs": [
    {
     "name": "stdout",
     "output_type": "stream",
     "text": [
      "yes\n"
     ]
    }
   ],
   "source": [
    "import numpy as np\n",
    "from keras.preprocessing import image\n",
    "#test_image = image.load_img('dataset/single_prediction/yes_or_no3.jpg', target_size = (64, 64))\n",
    "\n",
    "#test_image = image.load_img('dataset/test_set/yes/Y195.JPG', target_size = (64, 64))\n",
    "#test_image = image.load_img('dataset/test_set/no/No12.jpg', target_size = (64, 64))\n",
    "test_image = image.load_img('dataset/kag3y.jpg', target_size = (64, 64))\n",
    "\n",
    "test_image = image.img_to_array(test_image)\n",
    "test_image = np.expand_dims(test_image, axis = 0)\n",
    "result = modelf.predict(test_image)\n",
    "training_set.class_indices\n",
    "if result[0][0] == 1:\n",
    "    prediction = 'yes'\n",
    "else:\n",
    "    prediction = 'no'\n",
    "print(prediction)"
   ]
  },
  {
   "cell_type": "code",
   "execution_count": null,
   "metadata": {},
   "outputs": [],
   "source": []
  }
 ],
 "metadata": {
  "kernelspec": {
   "display_name": "Python 3",
   "language": "python",
   "name": "python3"
  },
  "language_info": {
   "codemirror_mode": {
    "name": "ipython",
    "version": 3
   },
   "file_extension": ".py",
   "mimetype": "text/x-python",
   "name": "python",
   "nbconvert_exporter": "python",
   "pygments_lexer": "ipython3",
   "version": "3.8.3rc1"
  }
 },
 "nbformat": 4,
 "nbformat_minor": 4
}
